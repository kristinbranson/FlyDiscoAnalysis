{
 "cells": [
  {
   "cell_type": "heading",
   "metadata": {},
   "level": 4,
   "source": [
    "Stephen Experiments"
   ]
  },
  {
   "cell_type": "code",
   "execution_count": null,
   "metadata": {
    "collapsed": true
   },
   "outputs": [],
   "source": [
    "# Running training on single fly experiments for stephen. \n",
    "import run_apt_expts as rae\n",
    "\n",
    "# creating the db and running\n",
    "rae.create_run_individual_animal_dbs_stephen('submit')"
   ]
  }
 ],
 "metadata": {
  "kernelspec": {
   "display_name": "Python 2",
   "language": "python",
   "name": "python2"
  },
  "language_info": {
   "codemirror_mode": {
    "name": "ipython",
    "version": 2
   },
   "file_extension": ".py",
   "mimetype": "text/x-python",
   "name": "python",
   "nbconvert_exporter": "python",
   "pygments_lexer": "ipython2",
   "version": "2.7.6"
  }
 },
 "nbformat": 4,
 "nbformat_minor": 0
}
